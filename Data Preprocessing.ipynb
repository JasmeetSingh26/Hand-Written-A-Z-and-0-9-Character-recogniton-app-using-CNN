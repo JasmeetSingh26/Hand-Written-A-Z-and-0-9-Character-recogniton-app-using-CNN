{
 "cells": [
  {
   "cell_type": "code",
   "execution_count": 2,
   "metadata": {
    "executionInfo": {
     "elapsed": 5861,
     "status": "ok",
     "timestamp": 1635993733481,
     "user": {
      "displayName": "Sineth Bandara",
      "photoUrl": "https://lh3.googleusercontent.com/a-/AOh14GhKdq8bhCUpgQ-7MzvdaGUCoDrG8IEInhYwzCJC=s64",
      "userId": "02739801178643177334"
     },
     "user_tz": -330
    },
    "id": "pkvWpqRd2qNo"
   },
   "outputs": [],
   "source": [
    "import cv2\n",
    "import numpy as np\n",
    "import pandas as pd\n",
    "from keras.utils import to_categorical  # Updated import\n",
    "from keras.datasets import mnist\n",
    "from sklearn.utils import shuffle\n",
    "from matplotlib import pyplot as plt\n",
    "from sklearn.model_selection import train_test_split"
   ]
  },
  {
   "cell_type": "code",
   "execution_count": 3,
   "metadata": {
    "executionInfo": {
     "elapsed": 12,
     "status": "ok",
     "timestamp": 1635993733482,
     "user": {
      "displayName": "Sineth Bandara",
      "photoUrl": "https://lh3.googleusercontent.com/a-/AOh14GhKdq8bhCUpgQ-7MzvdaGUCoDrG8IEInhYwzCJC=s64",
      "userId": "02739801178643177334"
     },
     "user_tz": -330
    },
    "id": "N5vUgaHn3EwO"
   },
   "outputs": [],
   "source": [
    "data_root = \"A_Z Handwritten Data.csv\""
   ]
  },
  {
   "cell_type": "code",
   "execution_count": 4,
   "metadata": {
    "executionInfo": {
     "elapsed": 39743,
     "status": "ok",
     "timestamp": 1635993774563,
     "user": {
      "displayName": "Sineth Bandara",
      "photoUrl": "https://lh3.googleusercontent.com/a-/AOh14GhKdq8bhCUpgQ-7MzvdaGUCoDrG8IEInhYwzCJC=s64",
      "userId": "02739801178643177334"
     },
     "user_tz": -330
    },
    "id": "BljPZy0Y6mFR"
   },
   "outputs": [],
   "source": [
    "dataset = pd.read_csv(data_root).astype(\"float32\")\n",
    "dataset.rename(columns={'0': \"label\"}, inplace=True)"
   ]
  },
  {
   "cell_type": "code",
   "execution_count": 5,
   "metadata": {
    "executionInfo": {
     "elapsed": 857,
     "status": "ok",
     "timestamp": 1635993775405,
     "user": {
      "displayName": "Sineth Bandara",
      "photoUrl": "https://lh3.googleusercontent.com/a-/AOh14GhKdq8bhCUpgQ-7MzvdaGUCoDrG8IEInhYwzCJC=s64",
      "userId": "02739801178643177334"
     },
     "user_tz": -330
    },
    "id": "kX72j08E6qyZ"
   },
   "outputs": [],
   "source": [
    "letter_x = dataset.drop(\"label\", axis=1)\n",
    "letter_y = dataset[\"label\"]\n",
    "(digit_train_x, digit_train_y), (digit_test_x, digit_test_y) = mnist.load_data()"
   ]
  },
  {
   "cell_type": "code",
   "execution_count": 6,
   "metadata": {},
   "outputs": [],
   "source": [
    "letter_x = letter_x.values"
   ]
  },
  {
   "cell_type": "code",
   "execution_count": 7,
   "metadata": {
    "colab": {
     "base_uri": "https://localhost:8080/"
    },
    "executionInfo": {
     "elapsed": 389,
     "status": "ok",
     "timestamp": 1635993939546,
     "user": {
      "displayName": "Sineth Bandara",
      "photoUrl": "https://lh3.googleusercontent.com/a-/AOh14GhKdq8bhCUpgQ-7MzvdaGUCoDrG8IEInhYwzCJC=s64",
      "userId": "02739801178643177334"
     },
     "user_tz": -330
    },
    "id": "qNO8HKG67WKp",
    "outputId": "2abf23c1-3faa-4d42-e724-b6828140ae37"
   },
   "outputs": [
    {
     "name": "stdout",
     "output_type": "stream",
     "text": [
      "(372450, 784) (372450,)\n",
      "(60000, 28, 28) (60000,)\n",
      "(10000, 28, 28) (10000,)\n"
     ]
    }
   ],
   "source": [
    "#shapes of the dataset\n",
    "\n",
    "print(letter_x.shape, letter_y.shape)\n",
    "print(digit_train_x.shape, digit_train_y.shape)\n",
    "print(digit_test_x.shape, digit_test_y.shape)"
   ]
  },
  {
   "cell_type": "code",
   "execution_count": 8,
   "metadata": {
    "colab": {
     "base_uri": "https://localhost:8080/"
    },
    "executionInfo": {
     "elapsed": 9,
     "status": "ok",
     "timestamp": 1635993775407,
     "user": {
      "displayName": "Sineth Bandara",
      "photoUrl": "https://lh3.googleusercontent.com/a-/AOh14GhKdq8bhCUpgQ-7MzvdaGUCoDrG8IEInhYwzCJC=s64",
      "userId": "02739801178643177334"
     },
     "user_tz": -330
    },
    "id": "Do4ICu_ox5cV",
    "outputId": "fddb1c05-305f-4921-a4d0-92fbea79d1a9"
   },
   "outputs": [
    {
     "name": "stdout",
     "output_type": "stream",
     "text": [
      "(70000, 28, 28) (70000,)\n"
     ]
    }
   ],
   "source": [
    "digit_data = np.concatenate((digit_train_x, digit_test_x))\n",
    "digit_target = np.concatenate((digit_train_y, digit_test_y))\n",
    "\n",
    "print(digit_data.shape, digit_target.shape)"
   ]
  },
  {
   "cell_type": "code",
   "execution_count": 9,
   "metadata": {
    "executionInfo": {
     "elapsed": 1203,
     "status": "ok",
     "timestamp": 1635993974969,
     "user": {
      "displayName": "Sineth Bandara",
      "photoUrl": "https://lh3.googleusercontent.com/a-/AOh14GhKdq8bhCUpgQ-7MzvdaGUCoDrG8IEInhYwzCJC=s64",
      "userId": "02739801178643177334"
     },
     "user_tz": -330
    },
    "id": "97fBZERk0p69"
   },
   "outputs": [],
   "source": [
    "digit_target += 26"
   ]
  },
  {
   "cell_type": "code",
   "execution_count": 10,
   "metadata": {
    "executionInfo": {
     "elapsed": 2374,
     "status": "ok",
     "timestamp": 1635993981471,
     "user": {
      "displayName": "Sineth Bandara",
      "photoUrl": "https://lh3.googleusercontent.com/a-/AOh14GhKdq8bhCUpgQ-7MzvdaGUCoDrG8IEInhYwzCJC=s64",
      "userId": "02739801178643177334"
     },
     "user_tz": -330
    },
    "id": "1qXpJEfZFu3_"
   },
   "outputs": [],
   "source": [
    "data = []\n",
    "\n",
    "for flatten in letter_x:\n",
    "  image = np.reshape(flatten, (28, 28, 1))\n",
    "  data.append(image)\n",
    "\n",
    "letter_data = np.array(data, dtype=np.float32)\n",
    "letter_target = letter_y"
   ]
  },
  {
   "cell_type": "code",
   "execution_count": 11,
   "metadata": {
    "executionInfo": {
     "elapsed": 372,
     "status": "ok",
     "timestamp": 1635993988645,
     "user": {
      "displayName": "Sineth Bandara",
      "photoUrl": "https://lh3.googleusercontent.com/a-/AOh14GhKdq8bhCUpgQ-7MzvdaGUCoDrG8IEInhYwzCJC=s64",
      "userId": "02739801178643177334"
     },
     "user_tz": -330
    },
    "id": "1W2aKIESy86e"
   },
   "outputs": [],
   "source": [
    "digit_data = np.reshape(digit_data, (digit_data.shape[0], digit_data.shape[1], digit_data.shape[2], 1))"
   ]
  },
  {
   "cell_type": "code",
   "execution_count": 12,
   "metadata": {
    "colab": {
     "base_uri": "https://localhost:8080/"
    },
    "executionInfo": {
     "elapsed": 345,
     "status": "ok",
     "timestamp": 1635993991524,
     "user": {
      "displayName": "Sineth Bandara",
      "photoUrl": "https://lh3.googleusercontent.com/a-/AOh14GhKdq8bhCUpgQ-7MzvdaGUCoDrG8IEInhYwzCJC=s64",
      "userId": "02739801178643177334"
     },
     "user_tz": -330
    },
    "id": "T8O7SdONKLgJ",
    "outputId": "88f20cfa-36be-4949-9f82-3becf98d3e14",
    "scrolled": true
   },
   "outputs": [
    {
     "name": "stdout",
     "output_type": "stream",
     "text": [
      "(372450, 28, 28, 1) (372450,)\n",
      "(70000, 28, 28, 1) (70000,)\n"
     ]
    }
   ],
   "source": [
    "print(letter_data.shape, letter_target.shape)\n",
    "print(digit_data.shape, digit_target.shape)"
   ]
  },
  {
   "cell_type": "code",
   "execution_count": 13,
   "metadata": {
    "colab": {
     "base_uri": "https://localhost:8080/"
    },
    "executionInfo": {
     "elapsed": 964,
     "status": "ok",
     "timestamp": 1635994000804,
     "user": {
      "displayName": "Sineth Bandara",
      "photoUrl": "https://lh3.googleusercontent.com/a-/AOh14GhKdq8bhCUpgQ-7MzvdaGUCoDrG8IEInhYwzCJC=s64",
      "userId": "02739801178643177334"
     },
     "user_tz": -330
    },
    "id": "QclhsssFzQbK",
    "outputId": "1804d461-9ecf-40dc-9f67-ff43e0fd9391"
   },
   "outputs": [
    {
     "name": "stdout",
     "output_type": "stream",
     "text": [
      "(442450, 28, 28, 1) (442450,)\n"
     ]
    }
   ],
   "source": [
    "data = np.concatenate((digit_data, letter_data))\n",
    "target = np.concatenate((digit_target, letter_target))\n",
    "\n",
    "print(data.shape, target.shape)"
   ]
  },
  {
   "cell_type": "code",
   "execution_count": 14,
   "metadata": {
    "executionInfo": {
     "elapsed": 913,
     "status": "ok",
     "timestamp": 1635994007233,
     "user": {
      "displayName": "Sineth Bandara",
      "photoUrl": "https://lh3.googleusercontent.com/a-/AOh14GhKdq8bhCUpgQ-7MzvdaGUCoDrG8IEInhYwzCJC=s64",
      "userId": "02739801178643177334"
     },
     "user_tz": -330
    },
    "id": "JstmD6wa-qde"
   },
   "outputs": [],
   "source": [
    "#splitting the data into test and train\n",
    "train_data, test_data, train_labels, test_labels = train_test_split(data, target, test_size=0.2)"
   ]
  },
  {
   "cell_type": "code",
   "execution_count": 17,
   "metadata": {
    "colab": {
     "base_uri": "https://localhost:8080/"
    },
    "executionInfo": {
     "elapsed": 352,
     "status": "ok",
     "timestamp": 1635994009353,
     "user": {
      "displayName": "Sineth Bandara",
      "photoUrl": "https://lh3.googleusercontent.com/a-/AOh14GhKdq8bhCUpgQ-7MzvdaGUCoDrG8IEInhYwzCJC=s64",
      "userId": "02739801178643177334"
     },
     "user_tz": -330
    },
    "id": "Hm0wvRi5BCW8",
    "outputId": "2eb0ff67-9867-467f-e686-6bc9a90a00aa"
   },
   "outputs": [
    {
     "name": "stdout",
     "output_type": "stream",
     "text": [
      "(353960, 28, 28, 1) (353960,)\n",
      "(88490, 28, 28, 1) (88490,)\n"
     ]
    }
   ],
   "source": [
    "print(train_data.shape, train_labels.shape)\n",
    "print(test_data.shape, test_labels.shape)"
   ]
  },
  {
   "cell_type": "code",
   "execution_count": 15,
   "metadata": {
    "executionInfo": {
     "elapsed": 1783,
     "status": "ok",
     "timestamp": 1635994015080,
     "user": {
      "displayName": "Sineth Bandara",
      "photoUrl": "https://lh3.googleusercontent.com/a-/AOh14GhKdq8bhCUpgQ-7MzvdaGUCoDrG8IEInhYwzCJC=s64",
      "userId": "02739801178643177334"
     },
     "user_tz": -330
    },
    "id": "MMOh70CYEian"
   },
   "outputs": [],
   "source": [
    "train_data = train_data / 255.0\n",
    "test_data = test_data / 255.0\n",
    "\n",
    "# Use to_categorical instead of np_utils.to_categorical\n",
    "train_labels = to_categorical(train_labels)\n",
    "test_labels = to_categorical(test_labels)\n"
   ]
  },
  {
   "cell_type": "code",
   "execution_count": 16,
   "metadata": {
    "colab": {
     "base_uri": "https://localhost:8080/"
    },
    "executionInfo": {
     "elapsed": 362,
     "status": "ok",
     "timestamp": 1635994041499,
     "user": {
      "displayName": "Sineth Bandara",
      "photoUrl": "https://lh3.googleusercontent.com/a-/AOh14GhKdq8bhCUpgQ-7MzvdaGUCoDrG8IEInhYwzCJC=s64",
      "userId": "02739801178643177334"
     },
     "user_tz": -330
    },
    "id": "JZQdKMAh0ddc",
    "outputId": "fb1b19dd-83ae-4433-e698-072e28775c4f"
   },
   "outputs": [
    {
     "name": "stdout",
     "output_type": "stream",
     "text": [
      "(353960, 28, 28, 1) (88490, 28, 28, 1)\n",
      "(353960, 36) (88490, 36)\n"
     ]
    }
   ],
   "source": [
    "print(train_data.shape, test_data.shape)\n",
    "print(train_labels.shape, test_labels.shape)"
   ]
  },
  {
   "cell_type": "code",
   "execution_count": 32,
   "metadata": {},
   "outputs": [
    {
     "data": {
      "text/plain": [
       "array([0., 0., 0., 0., 0., 0., 0., 0., 0., 0., 0., 0., 0., 0., 0., 0., 0.,\n",
       "       0., 0., 0., 0., 0., 0., 1., 0., 0., 0., 0., 0., 0., 0., 0., 0., 0.,\n",
       "       0., 0.], dtype=float32)"
      ]
     },
     "execution_count": 32,
     "metadata": {},
     "output_type": "execute_result"
    }
   ],
   "source": [
    "train_labels[0]"
   ]
  },
  {
   "cell_type": "code",
   "execution_count": 20,
   "metadata": {
    "executionInfo": {
     "elapsed": 1420,
     "status": "ok",
     "timestamp": 1635994054090,
     "user": {
      "displayName": "Sineth Bandara",
      "photoUrl": "https://lh3.googleusercontent.com/a-/AOh14GhKdq8bhCUpgQ-7MzvdaGUCoDrG8IEInhYwzCJC=s64",
      "userId": "02739801178643177334"
     },
     "user_tz": -330
    },
    "id": "VRtklzs0BHKC"
   },
   "outputs": [],
   "source": [
    "train_label_counts = [0 for i in range(36)]\n",
    "test_label_counts = [0 for i in range(36)]\n",
    "\n",
    "for i in range(train_data.shape[0]):\n",
    "  train_label_counts[np.argmax(train_labels[i])] += 1\n",
    "\n",
    "for i in range(test_data.shape[0]):\n",
    "  test_label_counts[np.argmax(test_labels[i])] += 1"
   ]
  },
  {
   "cell_type": "code",
   "execution_count": 21,
   "metadata": {
    "colab": {
     "base_uri": "https://localhost:8080/",
     "height": 527
    },
    "executionInfo": {
     "elapsed": 1000,
     "status": "ok",
     "timestamp": 1635994154113,
     "user": {
      "displayName": "Sineth Bandara",
      "photoUrl": "https://lh3.googleusercontent.com/a-/AOh14GhKdq8bhCUpgQ-7MzvdaGUCoDrG8IEInhYwzCJC=s64",
      "userId": "02739801178643177334"
     },
     "user_tz": -330
    },
    "id": "iQD8JYQYBpX8",
    "outputId": "c78fbb4d-1220-4d5b-b13e-974e32f688f5"
   },
   "outputs": [
    {
     "data": {
      "text/plain": [
       "<matplotlib.legend.Legend at 0x1882ab2c290>"
      ]
     },
     "execution_count": 21,
     "metadata": {},
     "output_type": "execute_result"
    },
    {
     "data": {
      "image/png": "[encoded data removed]",
      "text/plain": [
       "<Figure size 800x600 with 1 Axes>"
      ]
     },
     "metadata": {},
     "output_type": "display_data"
    }
   ],
   "source": [
    "frequency = [\n",
    "    train_label_counts, test_label_counts\n",
    "] \n",
    "\n",
    "fig =  plt.figure(figsize=(8, 6))\n",
    "ax = fig.add_axes([0, 0, 1, 1])\n",
    "x = ['A', 'B', 'C', 'D', 'E', 'F', 'G', 'H', 'I', 'J', 'K', 'L', 'M', 'N', 'O', 'P', 'Q', 'R', 'S', 'T', 'U', 'V', 'W', 'X', 'Y', 'Z', '0', '1', '2', '3', '4', '5', '6', '7', '8', '9']\n",
    "\n",
    "plt.xticks(range(len(frequency[0])), x)\n",
    "plt.title(\"train vs. test data distribution\")\n",
    "plt.xlabel(\"character\")\n",
    "plt.ylabel(\"frequency\")\n",
    "\n",
    "ax.bar(np.arange(len(frequency[0])), frequency[0], color=\"b\", width=0.35)\n",
    "ax.bar(np.arange(len(frequency[1])) + 0.35, frequency[1], color=\"r\", width=0.35)\n",
    "ax.legend(labels=[\"train\", \"test\"])"
   ]
  },
  {
   "cell_type": "code",
   "execution_count": 33,
   "metadata": {
    "executionInfo": {
     "elapsed": 34626,
     "status": "ok",
     "timestamp": 1635994144317,
     "user": {
      "displayName": "Sineth Bandara",
      "photoUrl": "https://lh3.googleusercontent.com/a-/AOh14GhKdq8bhCUpgQ-7MzvdaGUCoDrG8IEInhYwzCJC=s64",
      "userId": "02739801178643177334"
     },
     "user_tz": -330
    },
    "id": "6nhnwXGhCR4U"
   },
   "outputs": [],
   "source": [
    "np.save(\"data/train_data\", train_data)\n",
    "np.save(\"data/train_labels\", train_labels)\n",
    "np.save(\"data/test_data\", test_data)\n",
    "np.save(\"data/test_labels\", test_labels)"
   ]
  },
  {
   "cell_type": "code",
   "execution_count": null,
   "metadata": {
    "id": "riulpUG3EBo1"
   },
   "outputs": [],
   "source": []
  }
 ],
 "metadata": {
  "colab": {
   "authorship_tag": "ABX9TyMDNLRfnrT0xlvbfrxNekwE",
   "collapsed_sections": [],
   "mount_file_id": "1fSqc6idtNC-JooX1B-t3WwbT9mij775P",
   "name": "Data Preprocessing.ipynb",
   "provenance": []
  },
  "kernelspec": {
   "display_name": "Python 3 (ipykernel)",
   "language": "python",
   "name": "python3"
  },
  "language_info": {
   "codemirror_mode": {
    "name": "ipython",
    "version": 3
   },
   "file_extension": ".py",
   "mimetype": "text/x-python",
   "name": "python",
   "nbconvert_exporter": "python",
   "pygments_lexer": "ipython3",
   "version": "3.11.5"
  }
 },
 "nbformat": 4,
 "nbformat_minor": 4
}
