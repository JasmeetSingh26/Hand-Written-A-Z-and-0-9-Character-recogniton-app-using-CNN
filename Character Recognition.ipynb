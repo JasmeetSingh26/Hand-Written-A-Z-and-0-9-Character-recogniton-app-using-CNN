{
 "cells": [
  {
   "cell_type": "code",
   "execution_count": 1,
   "metadata": {
    "executionInfo": {
     "elapsed": 4691,
     "status": "ok",
     "timestamp": 1636942207272,
     "user": {
      "displayName": "Sineth Bandara",
      "photoUrl": "https://lh3.googleusercontent.com/a-/AOh14GhKdq8bhCUpgQ-7MzvdaGUCoDrG8IEInhYwzCJC=s64",
      "userId": "02739801178643177334"
     },
     "user_tz": -330
    },
    "id": "AzE3LRw5S4Pt"
   },
   "outputs": [],
   "source": [
    "import numpy as np\n",
    "import visualkeras as vk # pip install visualkeras\n",
    "import pandas as pd\n",
    "import seaborn as sn\n",
    "from keras.models import Sequential\n",
    "from matplotlib import pyplot as plt\n",
    "from keras.callbacks import ModelCheckpoint\n",
    "from sklearn.metrics import confusion_matrix\n",
    "from keras.preprocessing.image import ImageDataGenerator\n",
    "from keras.layers import Conv2D, Activation, MaxPooling2D, Flatten, Dense, Dropout, BatchNormalization"
   ]
  },
  {
   "cell_type": "code",
   "execution_count": 2,
   "metadata": {
    "executionInfo": {
     "elapsed": 16308,
     "status": "ok",
     "timestamp": 1636942223576,
     "user": {
      "displayName": "Sineth Bandara",
      "photoUrl": "https://lh3.googleusercontent.com/a-/AOh14GhKdq8bhCUpgQ-7MzvdaGUCoDrG8IEInhYwzCJC=s64",
      "userId": "02739801178643177334"
     },
     "user_tz": -330
    },
    "id": "0uzUNs1LTWe-"
   },
   "outputs": [],
   "source": [
    "train_data = np.load(\"data/train_data.npy\")\n",
    "test_data = np.load(\"data/test_data.npy\")\n",
    "train_labels = np.load(\"data/train_labels.npy\")\n",
    "test_labels = np.load(\"data/test_labels.npy\")"
   ]
  },
  {
   "cell_type": "code",
   "execution_count": 3,
   "metadata": {
    "colab": {
     "base_uri": "https://localhost:8080/"
    },
    "executionInfo": {
     "elapsed": 27,
     "status": "ok",
     "timestamp": 1636942223580,
     "user": {
      "displayName": "Sineth Bandara",
      "photoUrl": "https://lh3.googleusercontent.com/a-/AOh14GhKdq8bhCUpgQ-7MzvdaGUCoDrG8IEInhYwzCJC=s64",
      "userId": "02739801178643177334"
     },
     "user_tz": -330
    },
    "id": "ZO4XD8H-TjdL",
    "outputId": "b1f400cb-ffc3-45e1-ecce-76f7fb8c9272"
   },
   "outputs": [
    {
     "name": "stdout",
     "output_type": "stream",
     "text": [
      "Model: \"sequential\"\n",
      "_________________________________________________________________\n",
      " Layer (type)                Output Shape              Param #   \n",
      "=================================================================\n",
      " conv2d (Conv2D)             (None, 24, 24, 32)        832       \n",
      "                                                                 \n",
      " batch_normalization (Batch  (None, 24, 24, 32)        128       \n",
      " Normalization)                                                  \n",
      "                                                                 \n",
      " conv2d_1 (Conv2D)           (None, 20, 20, 32)        25632     \n",
      "                                                                 \n",
      " batch_normalization_1 (Bat  (None, 20, 20, 32)        128       \n",
      " chNormalization)                                                \n",
      "                                                                 \n",
      " max_pooling2d (MaxPooling2  (None, 10, 10, 32)        0         \n",
      " D)                                                              \n",
      "                                                                 \n",
      " dropout (Dropout)           (None, 10, 10, 32)        0         \n",
      "                                                                 \n",
      " batch_normalization_2 (Bat  (None, 10, 10, 32)        128       \n",
      " chNormalization)                                                \n",
      "                                                                 \n",
      " flatten (Flatten)           (None, 3200)              0         \n",
      "                                                                 \n",
      " dense (Dense)               (None, 256)               819456    \n",
      "                                                                 \n",
      " dense_1 (Dense)             (None, 36)                9252      \n",
      "                                                                 \n",
      "=================================================================\n",
      "Total params: 855556 (3.26 MB)\n",
      "Trainable params: 855364 (3.26 MB)\n",
      "Non-trainable params: 192 (768.00 Byte)\n",
      "_________________________________________________________________\n"
     ]
    }
   ],
   "source": [
    "model = Sequential()\n",
    "\n",
    "model.add(Conv2D(32, (5, 5), input_shape=(28, 28, 1), activation=\"relu\"))\n",
    "model.add(BatchNormalization())\n",
    "\n",
    "model.add(Conv2D(32, (5, 5), activation=\"relu\"))\n",
    "model.add(BatchNormalization())\n",
    "model.add(MaxPooling2D(2, 2))\n",
    "model.add(Dropout(0.25))\n",
    "\n",
    "model.add(BatchNormalization())\n",
    "model.add(Flatten())\n",
    "\n",
    "model.add(Dense(256, activation=\"relu\"))\n",
    "model.add(Dense(36, activation=\"softmax\"))\n",
    "\n",
    "model.compile(loss=\"categorical_crossentropy\", optimizer=\"adam\", metrics=[\"accuracy\"])\n",
    "model.summary()"
   ]
  },
  {
   "cell_type": "code",
   "execution_count": null,
   "metadata": {
    "colab": {
     "base_uri": "https://localhost:8080/",
     "height": 145
    },
    "executionInfo": {
     "elapsed": 7,
     "status": "ok",
     "timestamp": 1636050237338,
     "user": {
      "displayName": "Sineth Bandara",
      "photoUrl": "https://lh3.googleusercontent.com/a-/AOh14GhKdq8bhCUpgQ-7MzvdaGUCoDrG8IEInhYwzCJC=s64",
      "userId": "02739801178643177334"
     },
     "user_tz": -330
    },
    "id": "BBg4Gi16MKU0",
    "outputId": "396e12a1-1107-4fdd-f7f5-ee7fb7af5e40"
   },
   "outputs": [
    {
     "data": {
      "image/png": "[encoded data removed]",
      "text/plain": [
       "<PIL.Image.Image image mode=RGBA size=635x128 at 0x7F8D610918D0>"
      ]
     },
     "execution_count": 28,
     "metadata": {},
     "output_type": "execute_result"
    }
   ],
   "source": [
    "vk.layered_view(model)"
   ]
  },
  {
   "cell_type": "code",
   "execution_count": 4,
   "metadata": {
    "id": "mykaSAmzbVmA"
   },
   "outputs": [],
   "source": [
    "best_loss_checkpoint = ModelCheckpoint(\n",
    "    filepath=\"../models/best_loss_model.h5\",\n",
    "    monitor=\"loss\",\n",
    "    save_best_only=True,\n",
    "    save_weights_only=True,\n",
    "    mode=\"min\"\n",
    ")\n",
    "\n",
    "best_val_loss_checkpoint = ModelCheckpoint(\n",
    "    filepath=\"../models/best_val_loss_model.h5\",\n",
    "    monitor=\"val_loss\",\n",
    "    save_best_only=True,\n",
    "    save_weights_only=True,\n",
    "    mode=\"min\"\n",
    ")"
   ]
  },
  {
   "cell_type": "code",
   "execution_count": 1,
   "metadata": {
    "colab": {
     "base_uri": "https://localhost:8080/"
    },
    "executionInfo": {
     "elapsed": 564,
     "status": "ok",
     "timestamp": 1636942472565,
     "user": {
      "displayName": "Sineth Bandara",
      "photoUrl": "https://lh3.googleusercontent.com/a-/AOh14GhKdq8bhCUpgQ-7MzvdaGUCoDrG8IEInhYwzCJC=s64",
      "userId": "02739801178643177334"
     },
     "user_tz": -330
    },
    "id": "NizxBQMQkqyJ",
    "outputId": "be056dce-0367-45da-f720-901c73985daf"
   },
   "outputs": [
    {
     "name": "stdout",
     "output_type": "stream",
     "text": [
      "Epoch 1/10\n",
      "1770/1770 [==============================] - 1054s 595ms/step - loss: 0.1620 - accuracy: 0.9536 - val_loss: 0.0830 - val_accuracy: 0.9752\n",
      "Epoch 2/10\n",
      "1770/1770 [==============================] - 1052s 594ms/step - loss: 0.0724 - accuracy: 0.9781 - val_loss: 0.0646 - val_accuracy: 0.9806\n",
      "Epoch 3/10\n",
      "1770/1770 [==============================] - 1049s 593ms/step - loss: 0.0515 - accuracy: 0.9836 - val_loss: 0.0634 - val_accuracy: 0.9811\n",
      "Epoch 4/10\n",
      "1770/1770 [==============================] - 1043s 589ms/step - loss: 0.0408 - accuracy: 0.9869 - val_loss: 0.0480 - val_accuracy: 0.9859\n",
      "Epoch 5/10\n",
      "1770/1770 [==============================] - 1043s 589ms/step - loss: 0.0335 - accuracy: 0.9889 - val_loss: 0.0467 - val_accuracy: 0.9865\n",
      "Epoch 6/10\n",
      "1770/1770 [==============================] - 1036s 585ms/step - loss: 0.0277 - accuracy: 0.9909 - val_loss: 0.0495 - val_accuracy: 0.9870\n",
      "Epoch 7/10\n",
      "1770/1770 [==============================] - 1037s 586ms/step - loss: 0.0242 - accuracy: 0.9919 - val_loss: 0.0467 - val_accuracy: 0.9882\n",
      "Epoch 8/10\n",
      "1770/1770 [==============================] - 1042s 589ms/step - loss: 0.0208 - accuracy: 0.9931 - val_loss: 0.0423 - val_accuracy: 0.9895\n",
      "Epoch 9/10\n",
      "1770/1770 [==============================] - 1041s 588ms/step - loss: 0.0186 - accuracy: 0.9939 - val_loss: 0.0393 - val_accuracy: 0.9901\n",
      "Epoch 10/10\n",
      "1770/1770 [==============================] - 1040s 588ms/step - loss: 0.0167 - accuracy: 0.9944 - val_loss: 0.0535 - val_accuracy: 0.9879\n"
     ]
    }
   ],
   "source": [
    "history = model.fit(\n",
    "    train_data,\n",
    "    train_labels,\n",
    "    validation_data=(test_data, test_labels), \n",
    "    epochs=10, \n",
    "    batch_size=200, \n",
    "    callbacks=[best_loss_checkpoint, best_val_loss_checkpoint]\n",
    ")"
   ]
  },
  {
   "cell_type": "code",
   "execution_count": 6,
   "metadata": {
    "colab": {
     "base_uri": "https://localhost:8080/",
     "height": 295
    },
    "executionInfo": {
     "elapsed": 555,
     "status": "ok",
     "timestamp": 1636051105513,
     "user": {
      "displayName": "Sineth Bandara",
      "photoUrl": "https://lh3.googleusercontent.com/a-/AOh14GhKdq8bhCUpgQ-7MzvdaGUCoDrG8IEInhYwzCJC=s64",
      "userId": "02739801178643177334"
     },
     "user_tz": -330
    },
    "id": "0SjA1Y_ZOXIe",
    "outputId": "6852123a-b17a-4b51-9c10-2459cb3aa647"
   },
   "outputs": [
    {
     "data": {
      "image/png": "[encoded data removed]",
      "text/plain": [
       "<Figure size 432x288 with 1 Axes>"
      ]
     },
     "metadata": {
      "needs_background": "light"
     },
     "output_type": "display_data"
    }
   ],
   "source": [
    "plt.plot(history.history[\"loss\"], 'b', label=\"loss\")\n",
    "plt.plot(history.history[\"val_loss\"], 'r', label=\"val_loss\")\n",
    "plt.xlabel(\"epoch\")\n",
    "plt.ylabel(\"frequency\")\n",
    "plt.legend()\n",
    "plt.show()"
   ]
  },
  {
   "cell_type": "code",
   "execution_count": 7,
   "metadata": {
    "colab": {
     "base_uri": "https://localhost:8080/",
     "height": 295
    },
    "executionInfo": {
     "elapsed": 667,
     "status": "ok",
     "timestamp": 1636051129888,
     "user": {
      "displayName": "Sineth Bandara",
      "photoUrl": "https://lh3.googleusercontent.com/a-/AOh14GhKdq8bhCUpgQ-7MzvdaGUCoDrG8IEInhYwzCJC=s64",
      "userId": "02739801178643177334"
     },
     "user_tz": -330
    },
    "id": "_y-CbwBYPsmi",
    "outputId": "2a58b4b6-28b1-4f21-994b-aeb8d580f7f5"
   },
   "outputs": [
    {
     "data": {
      "image/png": "[encoded data removed]",
      "text/plain": [
       "<Figure size 432x288 with 1 Axes>"
      ]
     },
     "metadata": {
      "needs_background": "light"
     },
     "output_type": "display_data"
    }
   ],
   "source": [
    "plt.plot(history.history[\"acc\"], 'b', label=\"acc\")\n",
    "plt.plot(history.history[\"val_acc\"], 'r', label=\"val_acc\")\n",
    "plt.xlabel(\"epoch\")\n",
    "plt.ylabel(\"frequency\")\n",
    "plt.legend()\n",
    "plt.show()"
   ]
  },
  {
   "cell_type": "code",
   "execution_count": 4,
   "metadata": {
    "executionInfo": {
     "elapsed": 34,
     "status": "ok",
     "timestamp": 1636942227199,
     "user": {
      "displayName": "Sineth Bandara",
      "photoUrl": "https://lh3.googleusercontent.com/a-/AOh14GhKdq8bhCUpgQ-7MzvdaGUCoDrG8IEInhYwzCJC=s64",
      "userId": "02739801178643177334"
     },
     "user_tz": -330
    },
    "id": "tBg5K1eCisZ9"
   },
   "outputs": [],
   "source": [
    "model.load_weights(\"../models/best_val_loss_model.h5\")"
   ]
  },
  {
   "cell_type": "code",
   "execution_count": 5,
   "metadata": {
    "colab": {
     "base_uri": "https://localhost:8080/"
    },
    "executionInfo": {
     "elapsed": 66621,
     "status": "ok",
     "timestamp": 1636942299402,
     "user": {
      "displayName": "Sineth Bandara",
      "photoUrl": "https://lh3.googleusercontent.com/a-/AOh14GhKdq8bhCUpgQ-7MzvdaGUCoDrG8IEInhYwzCJC=s64",
      "userId": "02739801178643177334"
     },
     "user_tz": -330
    },
    "id": "_aXH_nboRCb-",
    "outputId": "d00d627b-b149-49f1-f729-54e15e63c72b"
   },
   "outputs": [
    {
     "name": "stdout",
     "output_type": "stream",
     "text": [
      "2766/2766 [==============================] - 66s 24ms/step - loss: 0.0393 - accuracy: 0.9901\n",
      "0.03925527632236481 0.9900892972946167\n"
     ]
    }
   ],
   "source": [
    "loss, acc = model.evaluate(test_data, test_labels)\n",
    "print(loss, acc)"
   ]
  },
  {
   "cell_type": "code",
   "execution_count": 7,
   "metadata": {
    "executionInfo": {
     "elapsed": 59790,
     "status": "ok",
     "timestamp": 1636942396061,
     "user": {
      "displayName": "Sineth Bandara",
      "photoUrl": "https://lh3.googleusercontent.com/a-/AOh14GhKdq8bhCUpgQ-7MzvdaGUCoDrG8IEInhYwzCJC=s64",
      "userId": "02739801178643177334"
     },
     "user_tz": -330
    },
    "id": "m9UNtghKXaPm"
   },
   "outputs": [],
   "source": [
    "predictions = model.predict(test_data)"
   ]
  },
  {
   "cell_type": "code",
   "execution_count": 8,
   "metadata": {
    "colab": {
     "base_uri": "https://localhost:8080/"
    },
    "executionInfo": {
     "elapsed": 497,
     "status": "ok",
     "timestamp": 1636942401789,
     "user": {
      "displayName": "Sineth Bandara",
      "photoUrl": "https://lh3.googleusercontent.com/a-/AOh14GhKdq8bhCUpgQ-7MzvdaGUCoDrG8IEInhYwzCJC=s64",
      "userId": "02739801178643177334"
     },
     "user_tz": -330
    },
    "id": "WN8LMT4rjG4e",
    "outputId": "8a5219fa-b698-496b-e6e9-bf80d557d941"
   },
   "outputs": [
    {
     "name": "stdout",
     "output_type": "stream",
     "text": [
      "[[2764    2    0 ...    0    0    0]\n",
      " [   0 1721    0 ...    0    1    0]\n",
      " [   0    0 4728 ...    0    0    0]\n",
      " ...\n",
      " [   0    0    0 ... 1396    0    1]\n",
      " [   0   10    0 ...    0 1310    1]\n",
      " [   0    0    0 ...    4    2 1362]]\n"
     ]
    }
   ],
   "source": [
    "confusion = confusion_matrix(\n",
    "    np.argmax(test_labels, axis=1),\n",
    "    np.argmax(predictions, axis=1)\n",
    ")\n",
    "print(confusion)"
   ]
  },
  {
   "cell_type": "code",
   "execution_count": 7,
   "metadata": {
    "colab": {
     "base_uri": "https://localhost:8080/",
     "height": 910
    },
    "executionInfo": {
     "elapsed": 6298,
     "status": "ok",
     "timestamp": 1636942416613,
     "user": {
      "displayName": "Sineth Bandara",
      "photoUrl": "https://lh3.googleusercontent.com/a-/AOh14GhKdq8bhCUpgQ-7MzvdaGUCoDrG8IEInhYwzCJC=s64",
      "userId": "02739801178643177334"
     },
     "user_tz": -330
    },
    "id": "TWp23jdFVa5U",
    "outputId": "a87c19e7-8f18-4ba1-b001-ba684ff47d63"
   },
   "outputs": [],
   "source": [
    "labels = ['A', 'B', 'C', 'D', 'E', 'F', 'G', 'H', 'I', 'J', 'K', 'L', 'M', 'N', 'O', 'P', 'Q', 'R', 'S', 'T', 'U', 'V', 'W', 'X', 'Y', 'Z', '0', '1', '2', '3', '4', '5', '6', '7', '8', '9']\n"
   ]
  },
  {
   "cell_type": "code",
   "execution_count": 8,
   "metadata": {
    "id": "IvaEbwGUifFE"
   },
   "outputs": [
    {
     "data": {
      "image/png": "[encoded data removed]",
      "text/plain": [
       "<Figure size 640x480 with 1 Axes>"
      ]
     },
     "metadata": {},
     "output_type": "display_data"
    }
   ],
   "source": [
    "import cv2\n",
    "import numpy as np\n",
    "import matplotlib.pyplot as plt\n",
    "\n",
    "# Load the external image as grayscale\n",
    "image_path = 'H.jpg'  # Replace with the path to your external image\n",
    "\n",
    "img = cv2.imread(image_path, cv2.IMREAD_GRAYSCALE)\n",
    "\n",
    "# Resize the image to (28, 28)\n",
    "img = cv2.resize(img, (28, 28))\n",
    "\n",
    "plt.imshow(img, cmap='gray')  # 'cmap' specifies the color map, 'gray' for grayscale\n",
    "plt.show()\n",
    "\n",
    "img = img / 255.0\n",
    "\n",
    "# Reshape the image to match the model's input shape\n",
    "img = np.reshape(img, (1, img.shape[0], img.shape[1], 1))\n"
   ]
  },
  {
   "cell_type": "code",
   "execution_count": 9,
   "metadata": {},
   "outputs": [
    {
     "name": "stdout",
     "output_type": "stream",
     "text": [
      "1/1 [==============================] - 0s 71ms/step\n",
      "Predicted Class Index: 7\n",
      "Predicted Class Label: H\n"
     ]
    }
   ],
   "source": [
    "# Make predictions\n",
    "acc = model.predict(img)\n",
    "\n",
    "# Get the predicted class label or index\n",
    "predicted_class_index = np.argmax(acc)\n",
    "\n",
    "# You can also get the class label if you have a dictionary mapping\n",
    "class_label = labels[predicted_class_index]\n",
    "\n",
    "# Print or use the results\n",
    "print(\"Predicted Class Index:\", predicted_class_index)\n",
    "print(\"Predicted Class Label:\", class_label)\n"
   ]
  },
  {
   "cell_type": "code",
   "execution_count": null,
   "metadata": {},
   "outputs": [],
   "source": []
  }
 ],
 "metadata": {
  "colab": {
   "authorship_tag": "ABX9TyNZsHenJlD3G39gEpUDcN/e",
   "collapsed_sections": [],
   "mount_file_id": "1DEOWed-HBHqrgrvunKtx5w4ISOZRtuXo",
   "name": "CNN Architecture.ipynb",
   "provenance": []
  },
  "kernelspec": {
   "display_name": "Python 3 (ipykernel)",
   "language": "python",
   "name": "python3"
  },
  "language_info": {
   "codemirror_mode": {
    "name": "ipython",
    "version": 3
   },
   "file_extension": ".py",
   "mimetype": "text/x-python",
   "name": "python",
   "nbconvert_exporter": "python",
   "pygments_lexer": "ipython3",
   "version": "3.11.5"
  }
 },
 "nbformat": 4,
 "nbformat_minor": 4
}
